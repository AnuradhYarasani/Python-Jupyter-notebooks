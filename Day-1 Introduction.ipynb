{
 "cells": [
  {
   "cell_type": "code",
   "execution_count": null,
   "id": "e03c1399",
   "metadata": {},
   "outputs": [],
   "source": []
  },
  {
   "cell_type": "code",
   "execution_count": 19,
   "id": "f1c566db",
   "metadata": {},
   "outputs": [
    {
     "name": "stdout",
     "output_type": "stream",
     "text": [
      "Hello, World!\n"
     ]
    }
   ],
   "source": [
    "print(\"Hello, World!\")"
   ]
  },
  {
   "cell_type": "markdown",
   "id": "191a8ddd",
   "metadata": {},
   "source": [
    "#### Creating a Comment"
   ]
  },
  {
   "cell_type": "code",
   "execution_count": 20,
   "id": "eb1b3d49",
   "metadata": {},
   "outputs": [
    {
     "name": "stdout",
     "output_type": "stream",
     "text": [
      "Hello, World!\n"
     ]
    }
   ],
   "source": [
    "#This is a comment\n",
    "print(\"Hello, World!\")"
   ]
  },
  {
   "cell_type": "code",
   "execution_count": 16,
   "id": "5d2c3c0f",
   "metadata": {},
   "outputs": [
    {
     "data": {
      "text/plain": [
       "'#This is a comment\\n#written in\\n#more than just one line\\nprint(\"Hello, World!\")'"
      ]
     },
     "execution_count": 16,
     "metadata": {},
     "output_type": "execute_result"
    }
   ],
   "source": [
    "'''#This is a comment\n",
    "#written in\n",
    "#more than just one line\n",
    "print(\"Hello, World!\")'''"
   ]
  },
  {
   "cell_type": "code",
   "execution_count": 11,
   "id": "06a7a099",
   "metadata": {},
   "outputs": [
    {
     "name": "stdout",
     "output_type": "stream",
     "text": [
      "Hello, Iam Anuradha!\n"
     ]
    }
   ],
   "source": [
    "#Write a Python program to print \"Hello, Iam Anuradha\"\n",
    "print('Hello, Iam Anuradha!')"
   ]
  },
  {
   "cell_type": "code",
   "execution_count": 22,
   "id": "686d1d94",
   "metadata": {},
   "outputs": [
    {
     "name": "stdout",
     "output_type": "stream",
     "text": [
      "enter two numbers:222 22\n",
      "244\n"
     ]
    }
   ],
   "source": [
    "#Calculate the sum of two numbers entered by the user. \n",
    "x,y=input('enter two numbers:').split()\n",
    "print(int(x)+int(y))"
   ]
  },
  {
   "cell_type": "code",
   "execution_count": 23,
   "id": "9adb6368",
   "metadata": {},
   "outputs": [
    {
     "name": "stdout",
     "output_type": "stream",
     "text": [
      "30 degrees Celsius in Fahrenheit is: 86.0\n"
     ]
    }
   ],
   "source": [
    "#Convert temperature from Celsius to Fahrenheit.\n",
    "C=30\n",
    "F= (C * 9/5) + 32\n",
    "print('30 degrees Celsius in Fahrenheit is: ' +str(F))"
   ]
  },
  {
   "cell_type": "code",
   "execution_count": null,
   "id": "e91c57f5",
   "metadata": {},
   "outputs": [],
   "source": []
  },
  {
   "cell_type": "code",
   "execution_count": null,
   "id": "8122b98c",
   "metadata": {},
   "outputs": [],
   "source": []
  },
  {
   "cell_type": "code",
   "execution_count": null,
   "id": "2476e1b5",
   "metadata": {},
   "outputs": [],
   "source": []
  }
 ],
 "metadata": {
  "kernelspec": {
   "display_name": "Python 3 (ipykernel)",
   "language": "python",
   "name": "python3"
  },
  "language_info": {
   "codemirror_mode": {
    "name": "ipython",
    "version": 3
   },
   "file_extension": ".py",
   "mimetype": "text/x-python",
   "name": "python",
   "nbconvert_exporter": "python",
   "pygments_lexer": "ipython3",
   "version": "3.9.13"
  }
 },
 "nbformat": 4,
 "nbformat_minor": 5
}
