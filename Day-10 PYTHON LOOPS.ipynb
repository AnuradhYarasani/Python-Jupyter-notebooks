{
 "cells": [
  {
   "cell_type": "code",
   "execution_count": null,
   "id": "eb997388",
   "metadata": {},
   "outputs": [],
   "source": []
  },
  {
   "cell_type": "markdown",
   "id": "55b069d2",
   "metadata": {},
   "source": [
    "## Python has two primitive loop commands:\n",
    "\n",
    "## while loops\n",
    "## for loops"
   ]
  },
  {
   "cell_type": "code",
   "execution_count": null,
   "id": "4836f1b0",
   "metadata": {},
   "outputs": [],
   "source": [
    "# With the while loop we can execute a set of statements as long as a condition is true.\n",
    "i = 1\n",
    "while i < 6:\n",
    "  print(i)\n",
    "  i += 1\n",
    "    \n",
    "#Note: remember to increment i, or else the loop will continue forever."
   ]
  },
  {
   "cell_type": "code",
   "execution_count": null,
   "id": "d3454e34",
   "metadata": {},
   "outputs": [],
   "source": []
  },
  {
   "cell_type": "code",
   "execution_count": null,
   "id": "76bfac91",
   "metadata": {},
   "outputs": [],
   "source": [
    "#With the break statement we can stop the loop even if the while condition is true\n",
    "\n",
    "i = 1\n",
    "while i < 6:\n",
    "  print(i)\n",
    "  if i == 3:\n",
    "    break\n",
    "  i += 1"
   ]
  },
  {
   "cell_type": "code",
   "execution_count": null,
   "id": "a92bfd2c",
   "metadata": {},
   "outputs": [],
   "source": []
  },
  {
   "cell_type": "code",
   "execution_count": null,
   "id": "e0f0e72e",
   "metadata": {},
   "outputs": [],
   "source": [
    "# With the continue statement we can stop the current iteration, and continue with the next\n",
    "\n",
    "i = 0\n",
    "while i < 6:\n",
    "    i += 1\n",
    "    if i == 3:\n",
    "        continue\n",
    "    print(i)\n",
    "    "
   ]
  },
  {
   "cell_type": "code",
   "execution_count": null,
   "id": "c3d5d818",
   "metadata": {},
   "outputs": [],
   "source": []
  },
  {
   "cell_type": "code",
   "execution_count": 1,
   "id": "97356005",
   "metadata": {},
   "outputs": [
    {
     "name": "stdout",
     "output_type": "stream",
     "text": [
      "1\n",
      "2\n",
      "3\n",
      "4\n",
      "5\n",
      "loop completed\n"
     ]
    }
   ],
   "source": [
    "#With the else statement we can run a block of code once when the condition no longer is true\n",
    "\n",
    "i = 1\n",
    "while i < 6:\n",
    "  print(i)\n",
    "  i += 1\n",
    "else:\n",
    "  print(\"loop completed\")"
   ]
  },
  {
   "cell_type": "code",
   "execution_count": null,
   "id": "22dc04e6",
   "metadata": {},
   "outputs": [],
   "source": []
  },
  {
   "cell_type": "code",
   "execution_count": null,
   "id": "e5beefaf",
   "metadata": {},
   "outputs": [],
   "source": [
    "## With the for loop we can execute a set of statements, \n",
    "#once for each item in a list, tuple, set etc.\n",
    "\n",
    "fruits = [\"apple\", \"banana\", \"cherry\"]\n",
    "for x in fruits:\n",
    "  print(x)"
   ]
  },
  {
   "cell_type": "code",
   "execution_count": null,
   "id": "307f7c9f",
   "metadata": {},
   "outputs": [],
   "source": [
    "#With the break statement we can stop the loop before it has looped through all the items\n",
    "\n",
    "fruits = [\"apple\", \"banana\", \"cherry\"]\n",
    "for x in fruits:\n",
    "  print(x)\n",
    "  if x == \"banana\":\n",
    "    break"
   ]
  },
  {
   "cell_type": "code",
   "execution_count": null,
   "id": "7fdb9cbb",
   "metadata": {},
   "outputs": [],
   "source": []
  },
  {
   "cell_type": "code",
   "execution_count": null,
   "id": "19675ccd",
   "metadata": {},
   "outputs": [],
   "source": [
    "#With the continue statement we can stop the current iteration of the loop, and continue with the next\n",
    "\n",
    "fruits = [\"apple\", \"banana\", \"cherry\"]\n",
    "for x in fruits:\n",
    "  if x == \"banana\":\n",
    "    continue\n",
    "  print(x)"
   ]
  },
  {
   "cell_type": "code",
   "execution_count": null,
   "id": "8aa2ad03",
   "metadata": {},
   "outputs": [],
   "source": [
    "range(6)"
   ]
  },
  {
   "cell_type": "code",
   "execution_count": null,
   "id": "c8c1b59d",
   "metadata": {},
   "outputs": [],
   "source": [
    "#The range() function returns a sequence of numbers, starting from 0 by \n",
    "#default, and increments by 1 (by default), and ends at a specified number\n",
    "for x in range(6):\n",
    "  print(x)"
   ]
  },
  {
   "cell_type": "code",
   "execution_count": null,
   "id": "ff005151",
   "metadata": {},
   "outputs": [],
   "source": [
    "# however it is possible to specify the starting value by adding a parameter\n",
    "for x in range(2, 6):\n",
    "  print(x)"
   ]
  },
  {
   "cell_type": "code",
   "execution_count": null,
   "id": "ec9114ea",
   "metadata": {},
   "outputs": [],
   "source": []
  },
  {
   "cell_type": "code",
   "execution_count": null,
   "id": "15f06355",
   "metadata": {},
   "outputs": [],
   "source": [
    "#The range() function defaults to increment the sequence by 1, however it is\n",
    "#possible to specify the increment value by adding a third parameter: \n",
    "#range(2, 30, 3)\n",
    "\n"
   ]
  },
  {
   "cell_type": "code",
   "execution_count": null,
   "id": "b8bd3cc0",
   "metadata": {},
   "outputs": [],
   "source": [
    "for x in range(2, 30, 5):\n",
    "  print(x)"
   ]
  },
  {
   "cell_type": "code",
   "execution_count": null,
   "id": "d8b6bc60",
   "metadata": {},
   "outputs": [],
   "source": []
  },
  {
   "cell_type": "code",
   "execution_count": null,
   "id": "15eec750",
   "metadata": {},
   "outputs": [],
   "source": [
    "#The else keyword in a for loop specifies a block of code to be executed when \n",
    "#the loop is finished\n",
    "for x in range(6):\n",
    "  print(x)\n",
    "else:\n",
    "  print(\"Finally finished!\")"
   ]
  },
  {
   "cell_type": "code",
   "execution_count": null,
   "id": "f973c1f7",
   "metadata": {},
   "outputs": [],
   "source": [
    "# The else block will NOT be executed if the loop is stopped by a break statement.\n",
    "\n",
    "for x in range(6):\n",
    "  if x == 3: break\n",
    "  print(x)\n",
    "else:\n",
    "  print(\"Finally finished!\")"
   ]
  },
  {
   "cell_type": "code",
   "execution_count": null,
   "id": "3e16242e",
   "metadata": {},
   "outputs": [],
   "source": []
  },
  {
   "cell_type": "code",
   "execution_count": null,
   "id": "c7c170de",
   "metadata": {},
   "outputs": [],
   "source": [
    "#Nested Loops\n",
    "#A nested loop is a loop inside a loop.\n",
    "\n",
    "#The \"inner loop\" will be executed one time for each iteration of the \"outer loop\"\n",
    "\n",
    "adj = [\"red\", \"big\", \"tasty\"]\n",
    "fruits = [\"apple\", \"banana\", \"cherry\"]\n",
    "\n",
    "for x in adj:\n",
    "  for y in fruits:\n",
    "    print(x, y)"
   ]
  },
  {
   "cell_type": "code",
   "execution_count": null,
   "id": "2f5841cb",
   "metadata": {},
   "outputs": [],
   "source": []
  },
  {
   "cell_type": "code",
   "execution_count": null,
   "id": "09fc815d",
   "metadata": {},
   "outputs": [],
   "source": [
    "#for loops cannot be empty, but if you for some reason have a for loop with\n",
    "#no content, put in the pass statement to avoid getting an error\n",
    "for x in [0, 1, 2]:\n",
    "  pass"
   ]
  },
  {
   "cell_type": "code",
   "execution_count": null,
   "id": "4c61c738",
   "metadata": {},
   "outputs": [],
   "source": []
  },
  {
   "cell_type": "code",
   "execution_count": null,
   "id": "f983de2f",
   "metadata": {},
   "outputs": [],
   "source": []
  },
  {
   "cell_type": "code",
   "execution_count": null,
   "id": "6c112ff0",
   "metadata": {},
   "outputs": [],
   "source": []
  },
  {
   "cell_type": "code",
   "execution_count": null,
   "id": "8b622568",
   "metadata": {},
   "outputs": [],
   "source": []
  },
  {
   "cell_type": "code",
   "execution_count": null,
   "id": "1c8f6848",
   "metadata": {},
   "outputs": [],
   "source": []
  },
  {
   "cell_type": "code",
   "execution_count": null,
   "id": "972a139b",
   "metadata": {},
   "outputs": [],
   "source": []
  }
 ],
 "metadata": {
  "kernelspec": {
   "display_name": "Python 3 (ipykernel)",
   "language": "python",
   "name": "python3"
  },
  "language_info": {
   "codemirror_mode": {
    "name": "ipython",
    "version": 3
   },
   "file_extension": ".py",
   "mimetype": "text/x-python",
   "name": "python",
   "nbconvert_exporter": "python",
   "pygments_lexer": "ipython3",
   "version": "3.9.13"
  }
 },
 "nbformat": 4,
 "nbformat_minor": 5
}
