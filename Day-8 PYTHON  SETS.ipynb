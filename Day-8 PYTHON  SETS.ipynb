{
 "cells": [
  {
   "cell_type": "markdown",
   "id": "d23a2fd9",
   "metadata": {},
   "source": [
    "### Set\n",
    "\n",
    "#### Sets are used to store multiple items in a single variable.\n",
    "#### A set is a collection which is unordered, unchangeable*, and unindexed.\n",
    "\n",
    "#### * Note: Set items are unchangeable, but you can remove items and add new items.\n",
    "\n",
    "#### Sets are written with curly brackets."
   ]
  },
  {
   "cell_type": "code",
   "execution_count": null,
   "id": "2a7903de",
   "metadata": {},
   "outputs": [],
   "source": [
    "thisset = {\"apple\", \"banana\", \"cherry\"}\n",
    "print(type(thisset))"
   ]
  },
  {
   "cell_type": "markdown",
   "id": "e9712c85",
   "metadata": {},
   "source": [
    "#### Sets cannot have two items with the same value.\n",
    "#### Duplicate values will be ignored:\n",
    "\n"
   ]
  },
  {
   "cell_type": "code",
   "execution_count": null,
   "id": "cb39b5f3",
   "metadata": {},
   "outputs": [],
   "source": [
    "thisset = {\"apple\", \"banana\", \"cherry\", \"apple\"}\n",
    "\n",
    "print(thisset)"
   ]
  },
  {
   "cell_type": "code",
   "execution_count": null,
   "id": "12cb3869",
   "metadata": {},
   "outputs": [],
   "source": [
    "list(thisset)"
   ]
  },
  {
   "cell_type": "code",
   "execution_count": null,
   "id": "99efb5f1",
   "metadata": {},
   "outputs": [],
   "source": []
  },
  {
   "cell_type": "markdown",
   "id": "8180982f",
   "metadata": {},
   "source": [
    "#### True and 1 is considered the same value:\n"
   ]
  },
  {
   "cell_type": "code",
   "execution_count": null,
   "id": "818f7244",
   "metadata": {},
   "outputs": [],
   "source": [
    "\n",
    "thisset = {\"apple\", \"banana\", \"cherry\", True, 1, 2, False,0}\n",
    "\n",
    "print(thisset)"
   ]
  },
  {
   "cell_type": "markdown",
   "id": "7ca664e8",
   "metadata": {},
   "source": [
    "#### Get the number of items in a set:\n"
   ]
  },
  {
   "cell_type": "code",
   "execution_count": null,
   "id": "04dac646",
   "metadata": {},
   "outputs": [],
   "source": [
    "\n",
    "thisset = {\"apple\", \"banana\", \"cherry\"}\n",
    "\n",
    "print(len(thisset))"
   ]
  },
  {
   "cell_type": "markdown",
   "id": "098ce0cc",
   "metadata": {},
   "source": [
    "#### String, int and boolean data types:\n"
   ]
  },
  {
   "cell_type": "code",
   "execution_count": null,
   "id": "d812c139",
   "metadata": {},
   "outputs": [],
   "source": [
    "set1 = {\"apple\", \"banana\", \"cherry\"}\n",
    "set2 = {1, 5, 7, 9, 3}\n",
    "set3 = {True, False, False}"
   ]
  },
  {
   "cell_type": "markdown",
   "id": "49bd6e20",
   "metadata": {},
   "source": [
    "#### sing the set() constructor to make a set:\n"
   ]
  },
  {
   "cell_type": "code",
   "execution_count": null,
   "id": "34f7a4d1",
   "metadata": {},
   "outputs": [],
   "source": [
    "\n",
    "thisset = set((\"apple\", \"banana\", \"cherry\")) # note the double round-brackets\n",
    "print(thisset)"
   ]
  },
  {
   "cell_type": "markdown",
   "id": "9fa624d2",
   "metadata": {},
   "source": [
    "#### Add Items"
   ]
  },
  {
   "cell_type": "code",
   "execution_count": null,
   "id": "d582969b",
   "metadata": {},
   "outputs": [],
   "source": [
    "#Add an item to a set, using the add() method:\n",
    "\n",
    "thisset = {\"apple\", \"banana\", \"cherry\"}\n",
    "\n",
    "thisset.add(\"orange\")\n",
    "\n",
    "print(thisset)"
   ]
  },
  {
   "cell_type": "markdown",
   "id": "f1cb8b62",
   "metadata": {},
   "source": [
    "#### Add Sets"
   ]
  },
  {
   "cell_type": "code",
   "execution_count": null,
   "id": "7d7f950f",
   "metadata": {},
   "outputs": [],
   "source": [
    "#Add elements from tropical into thisset:\n",
    "\n",
    "thisset = {\"apple\", \"banana\", \"cherry\"}\n",
    "tropical = {\"pineapple\", \"mango\", \"papaya\"}\n",
    "\n",
    "thisset.update(tropical)\n",
    "\n",
    "print(thisset)"
   ]
  },
  {
   "cell_type": "markdown",
   "id": "64f5ba31",
   "metadata": {},
   "source": [
    "#### Add Any Iterable"
   ]
  },
  {
   "cell_type": "code",
   "execution_count": null,
   "id": "fe52d311",
   "metadata": {},
   "outputs": [],
   "source": [
    "#Add elements of a list to at set:\n",
    "\n",
    "thisset = {\"apple\", \"banana\", \"cherry\"}\n",
    "mylist = [\"kiwi\", \"orange\"]\n",
    "\n",
    "thisset.update(mylist)\n",
    "\n",
    "print(thisset)"
   ]
  },
  {
   "cell_type": "markdown",
   "id": "2194cabf",
   "metadata": {},
   "source": [
    "#### Python - Remove Set Items"
   ]
  },
  {
   "cell_type": "code",
   "execution_count": null,
   "id": "3568b894",
   "metadata": {},
   "outputs": [],
   "source": [
    "#Remove \"banana\" by using the discard() method:\n",
    "thisset = {\"apple\", \"banana\", \"cherry\"}\n",
    "\n",
    "thisset.discard(\"banana\")\n",
    "\n",
    "print(thisset)"
   ]
  },
  {
   "cell_type": "code",
   "execution_count": null,
   "id": "f46f297c",
   "metadata": {},
   "outputs": [],
   "source": [
    "#Remove a random item by using the pop() method:\n",
    "thisset = {\"apple\", \"banana\", \"cherry\"}\n",
    "\n",
    "x = thisset.pop()\n",
    "\n",
    "print(x)\n",
    "\n",
    "print(thisset)"
   ]
  },
  {
   "cell_type": "code",
   "execution_count": null,
   "id": "2c183723",
   "metadata": {},
   "outputs": [],
   "source": [
    "#Remove \"banana\" by using the remove() method:\n",
    "\n",
    "thisset = {\"apple\", \"banana\", \"cherry\"}\n",
    "\n",
    "thisset.remove(\"banana\")\n",
    "\n",
    "print(thisset)"
   ]
  },
  {
   "cell_type": "code",
   "execution_count": null,
   "id": "131da345",
   "metadata": {},
   "outputs": [],
   "source": [
    "#The clear() method empties the set:\n",
    "\n",
    "thisset = {\"apple\", \"banana\", \"cherry\"}\n",
    "\n",
    "thisset.clear()\n",
    "\n",
    "print(thisset)"
   ]
  },
  {
   "cell_type": "code",
   "execution_count": null,
   "id": "cd54a0e8",
   "metadata": {},
   "outputs": [],
   "source": [
    "#The del keyword will delete the set completely:\n",
    "\n",
    "thisset = {\"apple\", \"banana\", \"cherry\"}\n",
    "\n",
    "del thisset\n",
    "\n",
    "print(thisset)"
   ]
  },
  {
   "cell_type": "markdown",
   "id": "f5593b19",
   "metadata": {},
   "source": [
    "#### Python - Join Sets"
   ]
  },
  {
   "cell_type": "code",
   "execution_count": null,
   "id": "0cce9335",
   "metadata": {},
   "outputs": [],
   "source": [
    "#You can use the union() method that returns a new set containing all items from both sets, or the update() method that inserts all the items from one set into another:\n",
    "\n",
    "#The union() method returns a new set with all items from both sets:\n",
    "\n",
    "set1 = {\"a\", \"b\" , \"c\"}\n",
    "set2 = {1, 2, 3}\n",
    "\n",
    "set3 = set1.union(set2)\n",
    "print(set3)"
   ]
  },
  {
   "cell_type": "code",
   "execution_count": null,
   "id": "db786c80",
   "metadata": {},
   "outputs": [],
   "source": [
    "#The update() method inserts the items in set2 into set1:\n",
    "\n",
    "set1 = {\"a\", \"b\" , \"c\"}\n",
    "set2 = {1, 2, 3}\n",
    "\n",
    "set1.update(set2)\n",
    "print(set1)"
   ]
  },
  {
   "cell_type": "code",
   "execution_count": null,
   "id": "09922b56",
   "metadata": {},
   "outputs": [],
   "source": [
    "#Keep ONLY the Duplicates\n",
    "#Keep the items that exist in both set x, and set y:\n",
    "\n",
    "x = {\"apple\", \"banana\", \"cherry\"}\n",
    "y = {\"google\", \"microsoft\", \"apple\"}\n",
    "\n",
    "x.intersection_update(y)\n",
    "\n",
    "print(x)"
   ]
  },
  {
   "cell_type": "code",
   "execution_count": null,
   "id": "48724528",
   "metadata": {},
   "outputs": [],
   "source": [
    "#Return a set that contains the items that exist in both set x, and set y:\n",
    "\n",
    "x = {\"apple\", \"banana\", \"cherry\"}\n",
    "y = {\"google\", \"microsoft\", \"apple\"}\n",
    "\n",
    "z = x.intersection(y)\n",
    "\n",
    "print(z)"
   ]
  },
  {
   "cell_type": "code",
   "execution_count": null,
   "id": "0dd3defd",
   "metadata": {},
   "outputs": [],
   "source": [
    "#Keep All, But NOT the Duplicates\n",
    "#Keep the items that are not present in both sets:\n",
    "\n",
    "x = {\"apple\", \"banana\", \"cherry\"}\n",
    "y = {\"google\", \"microsoft\", \"apple\"}\n",
    "\n",
    "x.symmetric_difference_update(y)\n",
    "\n",
    "print(x)"
   ]
  },
  {
   "cell_type": "code",
   "execution_count": null,
   "id": "65741a5f",
   "metadata": {},
   "outputs": [],
   "source": [
    "#Return a set that contains all items from both sets, except items that are present in both:\n",
    "\n",
    "x = {\"apple\", \"banana\", \"cherry\"}\n",
    "y = {\"google\", \"microsoft\", \"apple\"}\n",
    "\n",
    "z = x.symmetric_difference(y)\n",
    "\n",
    "print(z)"
   ]
  },
  {
   "cell_type": "code",
   "execution_count": null,
   "id": "7fc4f92d",
   "metadata": {},
   "outputs": [],
   "source": []
  },
  {
   "cell_type": "code",
   "execution_count": null,
   "id": "48ad3be4",
   "metadata": {},
   "outputs": [],
   "source": []
  },
  {
   "cell_type": "code",
   "execution_count": null,
   "id": "ae2434ec",
   "metadata": {},
   "outputs": [],
   "source": []
  }
 ],
 "metadata": {
  "kernelspec": {
   "display_name": "Python 3 (ipykernel)",
   "language": "python",
   "name": "python3"
  },
  "language_info": {
   "codemirror_mode": {
    "name": "ipython",
    "version": 3
   },
   "file_extension": ".py",
   "mimetype": "text/x-python",
   "name": "python",
   "nbconvert_exporter": "python",
   "pygments_lexer": "ipython3",
   "version": "3.9.13"
  }
 },
 "nbformat": 4,
 "nbformat_minor": 5
}
